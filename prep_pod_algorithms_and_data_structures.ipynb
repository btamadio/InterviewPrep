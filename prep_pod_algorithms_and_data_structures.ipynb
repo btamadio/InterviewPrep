{
 "cells": [
  {
   "cell_type": "markdown",
   "metadata": {},
   "source": [
    "# Algorithms and Data Structures in Python"
   ]
  },
  {
   "cell_type": "markdown",
   "metadata": {},
   "source": [
    "## 1. Why mutability matters"
   ]
  },
  {
   "cell_type": "markdown",
   "metadata": {},
   "source": [
    "The following is highly inefficient:\n",
    "```python\n",
    "combined_string = \"\"\n",
    "for data in container:\n",
    "    combined_string += str(data)\n",
    "```\n",
    "    \n",
    "Strings are *immutable*, so for every loop iteration, you are creating a new string object and assigning its value to the combination of the previous two, then deleting the original two strings. This wastes a lot of resources, especially as N becomes large.\n",
    "\n",
    "A much better solution is:\n",
    "```python\n",
    "combined_list = []\n",
    "for data in container:\n",
    "    combined_list.append(str(data))\n",
    "combined_string = \"\".join(output_list)\n",
    "```\n",
    "\n",
    "Since lists are mutable, you're not making new copies of anything while iterating."
   ]
  },
  {
   "cell_type": "markdown",
   "metadata": {},
   "source": [
    "## 2. Big-O Notation"
   ]
  },
  {
   "cell_type": "markdown",
   "metadata": {},
   "source": [
    "### Worst case vs. best case\n",
    "In an interview setting, you should usually talk about the worst case or average-case"
   ]
  },
  {
   "cell_type": "code",
   "execution_count": 17,
   "metadata": {
    "collapsed": true
   },
   "outputs": [],
   "source": [
    "#Given a list, return whether an item is in the list\n",
    "def matcher(lst,match):\n",
    "    for item in lst:\n",
    "        if item==match:\n",
    "            return True\n",
    "    return False\n",
    "#Best case: O(1)\n",
    "#Worst case: O(N)"
   ]
  },
  {
   "cell_type": "markdown",
   "metadata": {},
   "source": [
    "### Space complexity"
   ]
  },
  {
   "cell_type": "code",
   "execution_count": 65,
   "metadata": {
    "collapsed": true
   },
   "outputs": [],
   "source": [
    "def create_list(n):\n",
    "    new_list = []\n",
    "    for num in range(n):\n",
    "        new_list.append('new')\n",
    "    return new_list\n",
    "#O(N) in space complexity"
   ]
  },
  {
   "cell_type": "code",
   "execution_count": 64,
   "metadata": {
    "collapsed": false
   },
   "outputs": [
    {
     "data": {
      "text/plain": [
       "['new', 'new', 'new', 'new', 'new']"
      ]
     },
     "execution_count": 64,
     "metadata": {},
     "output_type": "execute_result"
    }
   ],
   "source": [
    "create_list(5)"
   ]
  },
  {
   "cell_type": "code",
   "execution_count": 68,
   "metadata": {
    "collapsed": true
   },
   "outputs": [],
   "source": [
    "def printer(n):\n",
    "    for x in range(10):\n",
    "        print('Hello World')\n",
    "# Time Complexity: O(N)\n",
    "# Space Complexity: O(1)"
   ]
  },
  {
   "cell_type": "markdown",
   "metadata": {},
   "source": [
    "<table>\n",
    "<tr>\n",
    "    <th>List Operation</th>\n",
    "    <th>Time Complexity</th>\n",
    "</tr>\n",
    "<tr>\n",
    "    <td>index []</td>\n",
    "    <td>O(1)</td>\n",
    "</tr>\n",
    "<tr>\n",
    "    <td>index assignment</td>\n",
    "    <td>O(1)</td>\n",
    "</tr>\n",
    "<tr>\n",
    "    <td>append</td>\n",
    "    <td>O(1)</td>\n",
    "</tr>\n",
    "<tr>\n",
    "    <td>pop()</td>\n",
    "    <td>O(1)</td>\n",
    "</tr>\n",
    "<tr>\n",
    "    <td>pop(i)</td>\n",
    "    <td>O(N)</td>\n",
    "</tr>\n",
    "<tr>\n",
    "    <td>insert(i,item)</td>\n",
    "    <td>O(N)</td>\n",
    "</tr>\n",
    "<tr>\n",
    "    <td>del</td>\n",
    "    <td>O(N)</td>\n",
    "</tr>\n",
    "<tr>\n",
    "    <td>iteration</td>\n",
    "    <td>O(N)</td>\n",
    "</tr>\n",
    "<tr>\n",
    "    <td>contains (in)</td>\n",
    "    <td>O(N)</td>\n",
    "</tr>\n",
    "<tr>\n",
    "    <td>get slice[x:x+k]</td>\n",
    "    <td>O(k)</td>\n",
    "</tr>\n",
    "</table>"
   ]
  },
  {
   "cell_type": "markdown",
   "metadata": {},
   "source": [
    "<table>\n",
    "<tr>\n",
    "    <th>Dict Operation</th>\n",
    "    <th>Time Complexity</th>\n",
    "</tr>\n",
    "<tr>\n",
    "    <td>copy</td>\n",
    "    <td>O(N)</td>\n",
    "</tr>\n",
    "<tr>\n",
    "    <td>get item</td>\n",
    "    <td>O(1)</td>\n",
    "</tr>\n",
    "<tr>\n",
    "    <td>set item</td>\n",
    "    <td>O(1)</td>\n",
    "</tr>\n",
    "<tr>\n",
    "    <td>delete item</td>\n",
    "    <td>O(1)</td>\n",
    "</tr>\n",
    "<tr>\n",
    "    <td>contains (in)</td>\n",
    "    <td>O(1)</td>\n",
    "</tr>\n",
    "<tr>\n",
    "    <td>iteration</td>\n",
    "    <td>O(N)</td>\n",
    "</tr>\n",
    "</table>"
   ]
  },
  {
   "cell_type": "markdown",
   "metadata": {},
   "source": [
    "## 3. Dynamic arrays"
   ]
  },
  {
   "cell_type": "code",
   "execution_count": 1,
   "metadata": {
    "collapsed": true
   },
   "outputs": [],
   "source": [
    "def method1():\n",
    "    l = []\n",
    "    for n in range(10000):\n",
    "        l = l+[n]\n",
    "\n",
    "def method2():\n",
    "    l = []\n",
    "    for n in range(10000):\n",
    "        l.append(n)\n",
    "\n",
    "def method3():\n",
    "    l = [n for n in range(10000)]\n",
    "    \n",
    "def method4():\n",
    "    l = list(range(10000))"
   ]
  },
  {
   "cell_type": "code",
   "execution_count": 2,
   "metadata": {
    "collapsed": false
   },
   "outputs": [
    {
     "name": "stdout",
     "output_type": "stream",
     "text": [
      "1 loop, best of 3: 196 ms per loop\n",
      "1000 loops, best of 3: 970 µs per loop\n",
      "1000 loops, best of 3: 416 µs per loop\n",
      "1000 loops, best of 3: 216 µs per loop\n"
     ]
    }
   ],
   "source": [
    "%timeit method1()\n",
    "%timeit method2()\n",
    "%timeit method3()\n",
    "%timeit method4()"
   ]
  },
  {
   "cell_type": "markdown",
   "metadata": {},
   "source": [
    "### Array Sequences\n",
    " - List [1,2,3]\n",
    " - tuple (1,2,3)\n",
    " - string '123'\n",
    " \n",
    "Can all be indexed in the same way"
   ]
  },
  {
   "cell_type": "markdown",
   "metadata": {},
   "source": [
    "### Memory structure\n",
    "Memory stored in bits\n",
    "\n",
    "1 byte = 8 bits\n",
    "\n",
    "One unique memory address for each byte\n",
    "\n",
    "Byte addresses are sequential, but all addresses can be accessed with equal efficiency (Random Access Memory)\n",
    "\n",
    "Storing or retrieving any byte is an O(1) operation"
   ]
  },
  {
   "cell_type": "markdown",
   "metadata": {},
   "source": [
    "### Arrays in memory\n",
    "\n",
    "In arrays, a group of variables is stored in a contiguous portion of the memory. The variable name refers to the group, and the index to the particular element in the group\n",
    "\n",
    "*A Python string is really an array of characters, each of which consists of 2 bytes*\n",
    "\n",
    "Each cell must use the same number of bytes - this is how we can access any cell in O(1)\n",
    "\n",
    "address_i = address_0 + cell_size * index"
   ]
  },
  {
   "cell_type": "markdown",
   "metadata": {},
   "source": [
    "### Referential arrays"
   ]
  },
  {
   "cell_type": "markdown",
   "metadata": {},
   "source": [
    "How can we efficiently allocate memory for a list of strings, when we don't know in advance how long each string is?\n",
    "\n",
    "*Store list of references instead of strings.* Each reference is the same size, and points to a string which can be stored somewhere else in memory\n",
    "\n",
    " - a single list can have multiple references to the same object\n",
    " - a single object can be referenced by multiple lists\n",
    " - a slice is a new list instance, but references the same objects as the original\n",
    " - when you copy a list, you only get a *shallow* copy, meaning it references the same elements as the original list\n",
    " - if you want to make a new list that references new elements, you need a deep copy (only useful for lists of mutable types)"
   ]
  },
  {
   "cell_type": "markdown",
   "metadata": {},
   "source": [
    "### Dynamic Arrays allocate memory on the fly"
   ]
  },
  {
   "cell_type": "code",
   "execution_count": 98,
   "metadata": {
    "collapsed": false
   },
   "outputs": [
    {
     "name": "stdout",
     "output_type": "stream",
     "text": [
      "Length: 0, Size in bytes 64\n",
      "Length: 1, Size in bytes 96\n",
      "Length: 2, Size in bytes 96\n",
      "Length: 3, Size in bytes 96\n",
      "Length: 4, Size in bytes 96\n",
      "Length: 5, Size in bytes 128\n",
      "Length: 6, Size in bytes 128\n",
      "Length: 7, Size in bytes 128\n",
      "Length: 8, Size in bytes 128\n",
      "Length: 9, Size in bytes 192\n"
     ]
    }
   ],
   "source": [
    "import sys\n",
    "n=10\n",
    "data=[]\n",
    "for i in range(n):\n",
    "    a=len(data)\n",
    "    b = sys.getsizeof(data)\n",
    "    print('Length: %i, Size in bytes %i'%(a,b))\n",
    "    data.append(i)"
   ]
  },
  {
   "cell_type": "markdown",
   "metadata": {},
   "source": [
    "### Amortization\n",
    "A single append operation can take as long as O(N), but by doubling the array size at each overflow, we guarantee that the average time complexity for N repeated append operations is less than 3 as N becomes very large"
   ]
  },
  {
   "cell_type": "markdown",
   "metadata": {},
   "source": [
    "## 4. Interview questions\n",
    "\n",
    "1. Don't use Python 'tricks' to solve problems (such as using slice syntax to reverse a string). The point is to show you can design and implement an algorithm.\n",
    "\n",
    "2. If you don't know where to begin, just start describing the most naive, brute-force way you can think of to solve it. You can come back and optimize after you get something that works"
   ]
  },
  {
   "cell_type": "markdown",
   "metadata": {},
   "source": [
    "### Anagram Check\n",
    "Given two strings, check to see if they are anagrams. Example: \"the morse code\" is an anagram of \"here come dots\"\n",
    "\n",
    "Ignore spaces and capitlization"
   ]
  },
  {
   "cell_type": "markdown",
   "metadata": {},
   "source": [
    "#### Method 1: sort and compare \n",
    "O(N log N)"
   ]
  },
  {
   "cell_type": "code",
   "execution_count": 130,
   "metadata": {
    "collapsed": true
   },
   "outputs": [],
   "source": [
    "def anagram(s1,s2):\n",
    "    s1 = s1.replace(' ','').lower()\n",
    "    s2 = s2.replace(' ','').lower()\n",
    "    return sorted(s1) == sorted(s2)"
   ]
  },
  {
   "cell_type": "code",
   "execution_count": 131,
   "metadata": {
    "collapsed": false
   },
   "outputs": [
    {
     "data": {
      "text/plain": [
       "True"
      ]
     },
     "execution_count": 131,
     "metadata": {},
     "output_type": "execute_result"
    }
   ],
   "source": [
    "anagram('god','dog')"
   ]
  },
  {
   "cell_type": "code",
   "execution_count": 147,
   "metadata": {
    "collapsed": false
   },
   "outputs": [
    {
     "data": {
      "text/plain": [
       "True"
      ]
     },
     "execution_count": 147,
     "metadata": {},
     "output_type": "execute_result"
    }
   ],
   "source": [
    "anagram('Clint Eastwood','Old West Action')"
   ]
  },
  {
   "cell_type": "markdown",
   "metadata": {},
   "source": [
    "#### Method 2: Hash table: preferred solution for interview\n",
    "O(N)"
   ]
  },
  {
   "cell_type": "code",
   "execution_count": 141,
   "metadata": {
    "collapsed": true
   },
   "outputs": [],
   "source": [
    "def anagram2(s1,s2):\n",
    "    #Clean input\n",
    "    s1 = s1.replace(' ','').lower()\n",
    "    s2 = s2.replace(' ','').lower()\n",
    "    \n",
    "    #Edge case check\n",
    "    if len(s1) != len(s2):\n",
    "        return False\n",
    "    \n",
    "    #Count letters\n",
    "    count = {}\n",
    "    for letter in s1:\n",
    "        if letter in count:\n",
    "            count[letter]+=1\n",
    "        else:\n",
    "            count[letter]=1\n",
    "    for letter in s2:\n",
    "        if letter in count:\n",
    "            count[letter]-=1\n",
    "        else:\n",
    "            count[letter]=1\n",
    "    for k in count:\n",
    "        if count[k] != 0:\n",
    "            return False\n",
    "    return True"
   ]
  },
  {
   "cell_type": "markdown",
   "metadata": {},
   "source": [
    "### Array pair sum\n",
    "Given a list of integers and a target, return all unique pairs of integers that sum to the target.\n",
    "\n",
    "Example: pair_sum([1,3,2,2],4) should output [(1,3),(2,2)]"
   ]
  },
  {
   "cell_type": "markdown",
   "metadata": {},
   "source": [
    "#### Method 1: Check all pairs\n",
    "O(N<sup>2</sup>)"
   ]
  },
  {
   "cell_type": "markdown",
   "metadata": {},
   "source": [
    "#### Method 2: Store unique values seen so far in hash table\n",
    "O(N)"
   ]
  },
  {
   "cell_type": "code",
   "execution_count": 173,
   "metadata": {
    "collapsed": true
   },
   "outputs": [],
   "source": [
    "def pair_sum(arr,k):\n",
    "    \n",
    "    if len(arr) < 2:\n",
    "        return []\n",
    "\n",
    "    seen = set()\n",
    "    output = set()\n",
    "\n",
    "    for num in arr:\n",
    "\n",
    "        target = k-num\n",
    "\n",
    "        if target in seen:\n",
    "            output.add((min(num,target),max(num,target)))\n",
    "\n",
    "        else:\n",
    "            seen.add(num)\n",
    "\n",
    "    return list(output)"
   ]
  },
  {
   "cell_type": "code",
   "execution_count": 175,
   "metadata": {
    "collapsed": false
   },
   "outputs": [
    {
     "data": {
      "text/plain": [
       "[(1, 3), (-6, 10), (2, 2)]"
      ]
     },
     "execution_count": 175,
     "metadata": {},
     "output_type": "execute_result"
    }
   ],
   "source": [
    "pair_sum([1,3,2,2,-6,0,10,3,1,3,3],4)"
   ]
  },
  {
   "cell_type": "markdown",
   "metadata": {},
   "source": [
    "### Find the missing element\n",
    "Consider an array of non-negative integers. A second array is formed by shuffling the elements of the first array and deleting a random element. Given these two arrays, find which element is missing in the second array.\n",
    "\n",
    "Input:\n",
    "\n",
    "finder([1,2,3,4,5,6,7],[3,7,2,1,4,6])\n",
    "\n",
    "Output:\n",
    "\n",
    "5 is the missing number"
   ]
  },
  {
   "cell_type": "markdown",
   "metadata": {},
   "source": [
    "#### Method 1: Loop through second array and check if each value appears in the first array\n",
    "\n",
    "O(N<sup>2</sup>)"
   ]
  },
  {
   "cell_type": "markdown",
   "metadata": {},
   "source": [
    "#### Method 2: Sort both arrays and iterate over them until a different value is found\n",
    "O(N log N)"
   ]
  },
  {
   "cell_type": "markdown",
   "metadata": {},
   "source": [
    "#### Method 3: Store count of integer occurences in a hash table (similar to anagram problem)\n",
    "O(N)"
   ]
  },
  {
   "cell_type": "markdown",
   "metadata": {},
   "source": [
    "#### Method 4: Compute the sum of both arrays and subtract\n",
    "O(N) but fails for very large numbers or very long lists"
   ]
  },
  {
   "cell_type": "markdown",
   "metadata": {},
   "source": [
    "### Largest continuous sum\n",
    "\n",
    "Given an array of integers (positive and negative) find the largest continuous sum."
   ]
  },
  {
   "cell_type": "markdown",
   "metadata": {},
   "source": [
    "### Sentence Reversal\n",
    "\n",
    "Given a string of words, reverse the order of words.\n"
   ]
  },
  {
   "cell_type": "markdown",
   "metadata": {},
   "source": [
    "### Unique characters in string\n",
    "Given a string, check if it's made of all unique characters"
   ]
  },
  {
   "cell_type": "code",
   "execution_count": 182,
   "metadata": {
    "collapsed": true
   },
   "outputs": [],
   "source": [
    "def uni_char(s):\n",
    "    return len(s) == len(set(s))"
   ]
  },
  {
   "cell_type": "code",
   "execution_count": 183,
   "metadata": {
    "collapsed": true
   },
   "outputs": [],
   "source": [
    "def uni_char(s):\n",
    "    char_set = set()\n",
    "    for char in s:\n",
    "        if char in char_set:\n",
    "            return False\n",
    "        char_set.add(char)\n",
    "    return True"
   ]
  },
  {
   "cell_type": "markdown",
   "metadata": {},
   "source": [
    "## 5. Stacks, Queues, and Deques"
   ]
  },
  {
   "cell_type": "markdown",
   "metadata": {},
   "source": [
    "### Implement a stack"
   ]
  },
  {
   "cell_type": "markdown",
   "metadata": {},
   "source": [
    "### Implement a queue"
   ]
  },
  {
   "cell_type": "markdown",
   "metadata": {},
   "source": [
    "### Implement a deque"
   ]
  },
  {
   "cell_type": "markdown",
   "metadata": {},
   "source": [
    "### Implement a queue using 2 stacks"
   ]
  },
  {
   "cell_type": "code",
   "execution_count": 20,
   "metadata": {
    "collapsed": true
   },
   "outputs": [],
   "source": [
    "class Queue(object):\n",
    "    def __init__(self):\n",
    "        self.in_stack=[]\n",
    "        self.out_stack=[]\n",
    "    def enqueue(self,element):\n",
    "        self.in_stack.append(element)            \n",
    "    def dequeue(self):\n",
    "        if not self.out_stack:\n",
    "            while self.in_stack:\n",
    "                self.out_stack.append(self.in_stack.pop())\n",
    "        return self.out_stack.pop()"
   ]
  },
  {
   "cell_type": "markdown",
   "metadata": {},
   "source": [
    "## 6. Singly-linked lists\n",
    "- O(1) insertion and deletion time, unlike arrays\n",
    "- No overflow, unlike dynamic arrays\n",
    "- Accessing k<sup>th</sup> element takes O(k) time\n"
   ]
  },
  {
   "cell_type": "code",
   "execution_count": 219,
   "metadata": {
    "collapsed": true
   },
   "outputs": [],
   "source": [
    "class Node(object):\n",
    "    def __init__(self,value):\n",
    "        self.value = value\n",
    "        self.nextnode = None"
   ]
  },
  {
   "cell_type": "code",
   "execution_count": 220,
   "metadata": {
    "collapsed": true
   },
   "outputs": [],
   "source": [
    "a=Node(1)\n",
    "b=Node(2)\n",
    "c=Node(3)\n",
    "a.nextnode=b\n",
    "b.nextnode=c"
   ]
  },
  {
   "cell_type": "code",
   "execution_count": 221,
   "metadata": {
    "collapsed": false
   },
   "outputs": [
    {
     "data": {
      "text/plain": [
       "1"
      ]
     },
     "execution_count": 221,
     "metadata": {},
     "output_type": "execute_result"
    }
   ],
   "source": [
    "a.value"
   ]
  },
  {
   "cell_type": "code",
   "execution_count": 222,
   "metadata": {
    "collapsed": false
   },
   "outputs": [
    {
     "data": {
      "text/plain": [
       "<__main__.Node at 0x104c21f60>"
      ]
     },
     "execution_count": 222,
     "metadata": {},
     "output_type": "execute_result"
    }
   ],
   "source": [
    "a.nextnode"
   ]
  },
  {
   "cell_type": "code",
   "execution_count": 223,
   "metadata": {
    "collapsed": false
   },
   "outputs": [
    {
     "data": {
      "text/plain": [
       "2"
      ]
     },
     "execution_count": 223,
     "metadata": {},
     "output_type": "execute_result"
    }
   ],
   "source": [
    "a.nextnode.value"
   ]
  },
  {
   "cell_type": "markdown",
   "metadata": {},
   "source": [
    "### Reverse a linked list in place\n",
    "- O(N) time complexity \n",
    "- O(1) space complexity"
   ]
  },
  {
   "cell_type": "markdown",
   "metadata": {
    "collapsed": true
   },
   "source": [
    "## 7. Recursion\n",
    "- Define base case\n",
    "- Define recursive case"
   ]
  },
  {
   "cell_type": "code",
   "execution_count": 35,
   "metadata": {
    "collapsed": true
   },
   "outputs": [],
   "source": [
    "def factorial(n):\n",
    "    if n == 0:\n",
    "        return 1\n",
    "    else:\n",
    "        return n*factorial(n-1)"
   ]
  },
  {
   "cell_type": "code",
   "execution_count": 36,
   "metadata": {
    "collapsed": false
   },
   "outputs": [
    {
     "data": {
      "text/plain": [
       "120"
      ]
     },
     "execution_count": 36,
     "metadata": {},
     "output_type": "execute_result"
    }
   ],
   "source": [
    "factorial(5)"
   ]
  },
  {
   "cell_type": "code",
   "execution_count": 37,
   "metadata": {
    "collapsed": true
   },
   "outputs": [],
   "source": [
    "def rec_sum(n):\n",
    "    if n==0:\n",
    "        return 0\n",
    "    else:\n",
    "        return n+rec_sum(n-1)"
   ]
  },
  {
   "cell_type": "markdown",
   "metadata": {},
   "source": [
    "## 8. Memoization\n",
    "Memoization is a kind of dynamic programming, where results of previous calculations are stored to speed up future calculations. Tradeoff is more space complexity for better time complexity."
   ]
  },
  {
   "cell_type": "code",
   "execution_count": 1,
   "metadata": {
    "collapsed": true
   },
   "outputs": [],
   "source": [
    "factorial_memo={}\n",
    "def factorial(k):\n",
    "    if k < 2:\n",
    "        return 1\n",
    "    if not k in factorial_memo:\n",
    "        factorial_memo[k]=k*factorial(k-1)\n",
    "    return factorial_memo[k]"
   ]
  },
  {
   "cell_type": "markdown",
   "metadata": {},
   "source": [
    "### Reverse a string using recursion"
   ]
  },
  {
   "cell_type": "code",
   "execution_count": 5,
   "metadata": {
    "collapsed": true
   },
   "outputs": [],
   "source": [
    "def rev(s):\n",
    "    if len(s)==1:\n",
    "        return s\n",
    "    else:\n",
    "        return rev(s[1:])+s[0]"
   ]
  },
  {
   "cell_type": "code",
   "execution_count": 6,
   "metadata": {
    "collapsed": false
   },
   "outputs": [
    {
     "data": {
      "text/plain": [
       "'edcba'"
      ]
     },
     "execution_count": 6,
     "metadata": {},
     "output_type": "execute_result"
    }
   ],
   "source": [
    "rev('abcde')"
   ]
  },
  {
   "cell_type": "markdown",
   "metadata": {},
   "source": [
    "### Given a string, return all permutations of the string\n",
    "Treat all occurrences of a character as distinct. \n",
    "Examples: \n",
    "```python\n",
    "'abc' --> ['abc','acb','bac','bca','cab','cba']\n",
    "\n",
    "'xxx' --> ['xxx','xxx','xxx','xxx','xxx','xxx']\n",
    "```"
   ]
  },
  {
   "cell_type": "code",
   "execution_count": 53,
   "metadata": {
    "collapsed": false
   },
   "outputs": [],
   "source": [
    "def permute(s):\n",
    "    if len(s) <= 1:\n",
    "        return [s]\n",
    "    else:\n",
    "        out = []\n",
    "        for p in permute(s[:-1]):\n",
    "            for j in range(len(s)):\n",
    "                out.append(p[0:j]+s[-1]+p[j:])\n",
    "        return out"
   ]
  },
  {
   "cell_type": "code",
   "execution_count": 54,
   "metadata": {
    "collapsed": false
   },
   "outputs": [
    {
     "data": {
      "text/plain": [
       "['cba', 'bca', 'bac', 'cab', 'acb', 'abc']"
      ]
     },
     "execution_count": 54,
     "metadata": {},
     "output_type": "execute_result"
    }
   ],
   "source": [
    "perm('abc')"
   ]
  },
  {
   "cell_type": "markdown",
   "metadata": {},
   "source": [
    "### Fibonacci sequence\n",
    "- Recursively\n",
    "- Dynamically (with memoization)\n",
    "- Iteratively"
   ]
  },
  {
   "cell_type": "markdown",
   "metadata": {},
   "source": [
    "## 9. Trees"
   ]
  },
  {
   "cell_type": "markdown",
   "metadata": {},
   "source": [
    "#### Implementing a tree as a collection of nodes and references"
   ]
  },
  {
   "cell_type": "code",
   "execution_count": 142,
   "metadata": {
    "collapsed": false
   },
   "outputs": [],
   "source": [
    "class BinaryTree(object):\n",
    "    \n",
    "    def __init__(self,rootObj):\n",
    "        self.key=rootObj\n",
    "        self.leftChild=None\n",
    "        self.rightChilde=None\n",
    "    def insertLeft(self,newNode):\n",
    "        if self.leftChild==None:\n",
    "            self.leftChild = BinaryTree(newNode)\n",
    "        else:\n",
    "            t=BinaryTree(newNode)\n",
    "            t.leftChild=self.leftChild\n",
    "            self.leftChild=t\n",
    "    def insertRight(self,newNode):\n",
    "        if self.rightChild==None:\n",
    "            self.rightChild = BinaryTree(newNode)\n",
    "        else:\n",
    "            t=BinaryTree(newNode)\n",
    "            t.rightChild=self.rightChild\n",
    "            self.rightChild=t\n",
    "    def getRightChild(self):\n",
    "        return self.rightChild\n",
    "    def getLeftChild(self):\n",
    "        return self.leftChild\n",
    "    def setRootVal(self,obj):\n",
    "        self.key=obj\n",
    "    def getRootVal(self):\n",
    "        return self.key"
   ]
  },
  {
   "cell_type": "markdown",
   "metadata": {},
   "source": [
    "#### Tree traversals\n",
    "- preorder\n",
    "- in order\n",
    "- post order"
   ]
  },
  {
   "cell_type": "code",
   "execution_count": 1,
   "metadata": {
    "collapsed": true
   },
   "outputs": [],
   "source": [
    "def preorder(tree):\n",
    "    if tree:\n",
    "        print(tree.getRootVal())\n",
    "        preorder(tree.getLeftChild())\n",
    "        preorder(tree.getRightChild())\n",
    "        \n",
    "def inorder(tree):\n",
    "    if tree:\n",
    "        inorder(tree.getLeftChild())\n",
    "        print(tree.getRootVale())\n",
    "        inorder(tree.getRightChild())\n",
    "\n",
    "def postorder(tree):\n",
    "    if tree:\n",
    "        postorder(tree.getLeftChild())\n",
    "        postorder(tree.getRightChild())\n",
    "        print(tree.getRootChild())"
   ]
  },
  {
   "cell_type": "markdown",
   "metadata": {},
   "source": [
    "#### Binary heaps\n",
    "Are usually defined such that the value of each node is greater than or equal to the value of its parent node.\n",
    "\n",
    "Binary heaps allow you to implement priority queues that can enqueue and dequeue in O(log N)\n",
    "\n",
    "A priority queue is a version of a queue which is ordered by priority, such that the highest priority elements are closest to the front."
   ]
  },
  {
   "cell_type": "markdown",
   "metadata": {},
   "source": [
    "## 10. Graphs\n",
    "- A collection of vertices / nodes with edges connecting them\n",
    "- **Directed graph**: all edges are one-way\n",
    "- Edges may or may not be weighted"
   ]
  },
  {
   "cell_type": "markdown",
   "metadata": {},
   "source": [
    "#### Implementation of a graph as adjacency list"
   ]
  },
  {
   "cell_type": "code",
   "execution_count": 52,
   "metadata": {
    "collapsed": false
   },
   "outputs": [],
   "source": [
    "class Vertex:\n",
    "    \n",
    "    def __init__(self,key):\n",
    "        self.id=key\n",
    "        self.connectedTo = {}\n",
    "        \n",
    "    def addNeighbor(self,nbr,weight=0):\n",
    "        self.connectedTo[nbr]=weight\n",
    "        \n",
    "    def getConnections(self):\n",
    "        return list(self.connectedTo.keys())\n",
    "    \n",
    "    def getID(self):\n",
    "        return self.id\n",
    "    \n",
    "    def getWeight(self,nbr):\n",
    "        return self.connectedTo[nbr]\n",
    "    \n",
    "    def __str__(self):\n",
    "        return str(self.id)+' connected to '+str([x.id for x in self.connectedTo])"
   ]
  },
  {
   "cell_type": "code",
   "execution_count": 61,
   "metadata": {
    "collapsed": true
   },
   "outputs": [],
   "source": [
    "class Graph:\n",
    "    \n",
    "    def __init__(self):\n",
    "        self.vertList = {}\n",
    "        self.numVertices = 0\n",
    "\n",
    "    def addVertex(self,key):\n",
    "        self.numVertices += 1\n",
    "        newVertex = Vertex(key)\n",
    "        self.vertList[key] = newVertex\n",
    "        return newVertex\n",
    "    \n",
    "    def getVertex(self,key):\n",
    "        if key in self.vertList:\n",
    "            return self.vertList[key]\n",
    "        return None\n",
    "    \n",
    "    def addEdge(self,f,t,weight=0):\n",
    "        if f not in self.vertList:\n",
    "            newVertex = self.addVertex(f)\n",
    "        if t not in self.vertList:\n",
    "            newVertex = self.addVertex(t)\n",
    "        \n",
    "        self.vertList[f].addNeighbor(self.vertList[t],weight)\n",
    "    \n",
    "    def getVertices(self):\n",
    "        return list(self.vertList.keys())\n",
    "    \n",
    "    def __iter__(self):\n",
    "        return iter(self.vertList.values())\n",
    "    \n",
    "    def __contains__(self,key):\n",
    "        return key in self.vertList"
   ]
  },
  {
   "cell_type": "code",
   "execution_count": 62,
   "metadata": {
    "collapsed": true
   },
   "outputs": [],
   "source": [
    "g=Graph()"
   ]
  },
  {
   "cell_type": "code",
   "execution_count": 63,
   "metadata": {
    "collapsed": true
   },
   "outputs": [],
   "source": [
    "for i in range(6):\n",
    "    g.addVertex(i)"
   ]
  },
  {
   "cell_type": "code",
   "execution_count": 64,
   "metadata": {
    "collapsed": true
   },
   "outputs": [],
   "source": [
    "g.addEdge(0,1,2)"
   ]
  },
  {
   "cell_type": "code",
   "execution_count": 65,
   "metadata": {
    "collapsed": false,
    "scrolled": true
   },
   "outputs": [
    {
     "name": "stdout",
     "output_type": "stream",
     "text": [
      "0 connected to [1]\n",
      "[<__main__.Vertex object at 0x104a40630>]\n",
      "1 connected to []\n",
      "[]\n",
      "2 connected to []\n",
      "[]\n",
      "3 connected to []\n",
      "[]\n",
      "4 connected to []\n",
      "[]\n",
      "5 connected to []\n",
      "[]\n"
     ]
    }
   ],
   "source": [
    "for vertex in g:\n",
    "    print(vertex)\n",
    "    print(vertex.getConnections())"
   ]
  },
  {
   "cell_type": "code",
   "execution_count": 66,
   "metadata": {
    "collapsed": false
   },
   "outputs": [
    {
     "data": {
      "text/plain": [
       "[0, 1, 2, 3, 4, 5]"
      ]
     },
     "execution_count": 66,
     "metadata": {},
     "output_type": "execute_result"
    }
   ],
   "source": [
    "g.getVertices()"
   ]
  },
  {
   "cell_type": "markdown",
   "metadata": {},
   "source": [
    "### Word Ladder\n",
    "Given two words and a word list, find the length of the shortest transformation sequence from beginning word to ending word such that:\n",
    "    1. Only one letter can be changed at a time\n",
    "    2. Each transformed word must exist in the word list\n",
    "Construct a graph where each word is a vertex, and two words are connected by an edge if they differ by exactly one letter"
   ]
  },
  {
   "cell_type": "markdown",
   "metadata": {},
   "source": [
    "### BFS for a graph\n",
    "Given a graph and a starting vertex, traverse the entire graph by first finding all the vertices that are 1 edge away from start, then 2 edges away, etc.\n",
    "\n",
    "1. Set starting vertex to gray\n",
    "2. Set starting vertex distance = 0, predecessor = None\n",
    "3. Enqueue starting node\n",
    "4. While queue:\n",
    "    - dequeue and set current vertex to dequeued item\n",
    "    - iterate over neighbors in adjacency list\n",
    "         - if neighbor is white:\n",
    "             1. color it gray\n",
    "             2. set nbr.predecessor to currentVert.distance\n",
    "             3. set nbr.distance to currentVert.distance\n",
    "             4. enqueue nbr\n",
    "    - color currentVert black"
   ]
  },
  {
   "cell_type": "code",
   "execution_count": null,
   "metadata": {
    "collapsed": true
   },
   "outputs": [],
   "source": []
  }
 ],
 "metadata": {
  "kernelspec": {
   "display_name": "Python [conda env:my_projects_env]",
   "language": "python",
   "name": "conda-env-my_projects_env-py"
  },
  "language_info": {
   "codemirror_mode": {
    "name": "ipython",
    "version": 3
   },
   "file_extension": ".py",
   "mimetype": "text/x-python",
   "name": "python",
   "nbconvert_exporter": "python",
   "pygments_lexer": "ipython3",
   "version": "3.5.2"
  }
 },
 "nbformat": 4,
 "nbformat_minor": 2
}
